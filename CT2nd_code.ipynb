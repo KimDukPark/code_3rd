{
  "nbformat": 4,
  "nbformat_minor": 0,
  "metadata": {
    "colab": {
      "provenance": [],
      "authorship_tag": "ABX9TyOL5ynWvBCp/QRmPmtU9sbe",
      "include_colab_link": true
    },
    "kernelspec": {
      "name": "python3",
      "display_name": "Python 3"
    },
    "language_info": {
      "name": "python"
    }
  },
  "cells": [
    {
      "cell_type": "markdown",
      "metadata": {
        "id": "view-in-github",
        "colab_type": "text"
      },
      "source": [
        "<a href=\"https://colab.research.google.com/github/KimDukPark/code_3rd/blob/main/CT2nd_code.ipynb\" target=\"_parent\"><img src=\"https://colab.research.google.com/assets/colab-badge.svg\" alt=\"Open In Colab\"/></a>"
      ]
    },
    {
      "cell_type": "markdown",
      "source": [
        "2번째 코딩\n",
        "- 사용자로부터 3개의 값을 받아서 합을 내고, 평균을 출력하는 코드"
      ],
      "metadata": {
        "id": "vSbqbAO-Kag5"
      }
    },
    {
      "cell_type": "code",
      "execution_count": null,
      "metadata": {
        "colab": {
          "base_uri": "https://localhost:8080/"
        },
        "id": "9AA-yBi2Hljy",
        "outputId": "fb214eb2-9908-4139-d10c-36459e63068b"
      },
      "outputs": [
        {
          "output_type": "stream",
          "name": "stdout",
          "text": [
            "N1의 값을 입력하시오.:40\n",
            "N2의 값을 입력하시오.:50\n",
            "N3의 값을 입력하시오.:60\n",
            "50.0\n"
          ]
        }
      ],
      "source": [
        "n1=int(input(\"N1의 값을 입력하시오.:\")) # 사용자로부터 정수 값을 입력받아 n1 변수에 저장\n",
        "n2=int(input(\"N2의 값을 입력하시오.:\")) # 사용자로부터 정수 값을 입력받아 n2 변수에 저장\n",
        "n3=int(input(\"N3의 값을 입력하시오.:\")) # 사용자로부터 정수 값을 입력받아 n3 변수에 저장\n",
        "total=n1+n2+n3 # n1, n2, n3의 합을 계산하여 total 변수에 저장\n",
        "average=total/3 # total을 3으로 나누어 평균을 계산하여 average 변수에 저장\n",
        "print(average) # average를 출력"
      ]
    }
  ]
}