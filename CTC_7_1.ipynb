{
  "nbformat": 4,
  "nbformat_minor": 0,
  "metadata": {
    "colab": {
      "provenance": [],
      "authorship_tag": "ABX9TyNdvpl4Xr+CA9bcw+RjrnYO",
      "include_colab_link": true
    },
    "kernelspec": {
      "name": "python3",
      "display_name": "Python 3"
    },
    "language_info": {
      "name": "python"
    }
  },
  "cells": [
    {
      "cell_type": "markdown",
      "metadata": {
        "id": "view-in-github",
        "colab_type": "text"
      },
      "source": [
        "<a href=\"https://colab.research.google.com/github/KimDukPark/code_3rd/blob/main/CTC_7_1.ipynb\" target=\"_parent\"><img src=\"https://colab.research.google.com/assets/colab-badge.svg\" alt=\"Open In Colab\"/></a>"
      ]
    },
    {
      "cell_type": "markdown",
      "source": [],
      "metadata": {
        "id": "1K6FfgkSPfH6"
      }
    },
    {
      "cell_type": "markdown",
      "source": [
        "1. 사용자로부터 3개의 값(x,y,z)을 입력받아서 각각 1씩 증가되고, 출력되는 코드작성"
      ],
      "metadata": {
        "id": "n9D0gWspPme5"
      }
    },
    {
      "cell_type": "code",
      "execution_count": null,
      "metadata": {
        "colab": {
          "base_uri": "https://localhost:8080/"
        },
        "id": "YKUAzqs-O4f3",
        "outputId": "d91ad35f-c737-41ee-86c5-590919ac27bd"
      },
      "outputs": [
        {
          "output_type": "stream",
          "name": "stdout",
          "text": [
            " x의 값을 입력사시오.: 1\n",
            " y의 값을 입력하시오.:2\n",
            " z의 값을 입력하시오.:3\n",
            "x의 값은 (x)이며, y의 값은 (y)이고, z의 값은 4이다.\n"
          ]
        }
      ],
      "source": [
        "x = int(input( \" x의 값을 입력사시오.: \")) # 사용자로부터 정수 값을 입력받아 x 변수에 저장\n",
        "y = int(input( \" y의 값을 입력하시오.:\")) # 사용자로부터 정수 값을 입력받아 y 변수에 저장\n",
        "z = int(input( \" z의 값을 입력하시오.:\")) # 사용자로부터 정수 값을 입력받아 z 변수에 저장\n",
        "x = x+1 # x 값을 1 증가시킴\n",
        "y = y+1 # y 값을 1 증가시킴\n",
        "z = z+1 # z 값을 1 증가시킴\n",
        "print(f'x의 값은 (x)이며, y의 값은 (y)이고, z의 값은 4이다.') # \"x의 값은 {x}이며, y의 값은 {y}이고, z의 값은 4이다.\"를 출력\n"
      ]
    },
    {
      "cell_type": "markdown",
      "source": [
        "2. 알바생의 시급과 시간을 계산하여 월급을 출력한 코드"
      ],
      "metadata": {
        "id": "JzsuuHdlQ43K"
      }
    },
    {
      "cell_type": "code",
      "source": [
        "hours_worked  =  int(input(\"일한 시간을 입력하시오.: \"))  # 사용자로부터 정수 값을 입력받아 hours_worked 변수에 저장\n",
        "pay_rate  =  int(input(\"시급을 입력하시오(23기준 9620원): \")) # 사용자로부터 정수 값을 입력받아 pay_rate 변수에 저장\n",
        "monthly_pay  =  hours_worked  *  pay_rate # 일한 시간과 시급을 곱하여 월급여를 계산하여 monthly_pay 변수에 저장\n",
        "print(f'일한 시간은 {hours_worked}이고, 시급은 {pay_rate}이며, 월급여는 {monthly_pay}원 입니다.')  # \"일한 시간은 {hours_worked}이고, 시급은 {pay_rate}이며, 월급여는 {monthly_pay}원 입니다.\"를 출력"
      ],
      "metadata": {
        "colab": {
          "base_uri": "https://localhost:8080/"
        },
        "id": "7gIl8wl6Q-Za",
        "outputId": "342fb9fa-489f-435a-f684-74050c4ba173"
      },
      "execution_count": null,
      "outputs": [
        {
          "output_type": "stream",
          "name": "stdout",
          "text": [
            "일한 시간을 입력하시오.: 10\n",
            "시급을 입력하시오(23기준 9620원): 9620\n",
            "일한 시간은 10이고, 시급은 9620이며, 월급여는 96200원 입니다.\n"
          ]
        }
      ]
    },
    {
      "cell_type": "markdown",
      "source": [
        "3. 환율을 계산하는 코드작성\n",
        "\n",
        " - 원의 변수는 won\n",
        " - 달러의 변수는 used\n",
        " - 환전의 변수는 exchange\n"
      ],
      "metadata": {
        "id": "yBJTtTHhTJRJ"
      }
    },
    {
      "cell_type": "code",
      "source": [
        "won = int(input(\"환전할 금액을 입력(kor)\")) # 사용자로부터 정수 값을 입력받아 won 변수에 저장\n",
        "used = int(input(\"현재의 달러의 환을 입력(231031: 1372)\")) # 사용자로부터 정수 값을 입력받아 used 변수에 저장\n",
        "exchange = won + used # 환전할 금액과 달러의 환율을 더하여 환전금액을 계산하여 exchange 변수에 저장\n",
        "print(f'환전할 금액은 {won}이며, 달러의 금액은 {used}이고, 환전금액은 {exchange}입니다.') # \"환전할 금액은 {won}이며, 달러의 금액은 {used}이고, 환전금액은 {exchange}입니다.\"를 출력"
      ],
      "metadata": {
        "colab": {
          "base_uri": "https://localhost:8080/"
        },
        "id": "lCVrWKmPT3Wi",
        "outputId": "fcd179f2-98a4-44d6-b5ea-ae6299ab173c"
      },
      "execution_count": null,
      "outputs": [
        {
          "output_type": "stream",
          "name": "stdout",
          "text": [
            "환전할 금액을 입력(kor)5000\n",
            "현재의 달러의 환을 입력(231031: 1372)1372\n",
            "환전할 금액은 5000이며, 달러의 금액은 1372이고, 환전금액은 6372입니다.\n"
          ]
        }
      ]
    },
    {
      "cell_type": "markdown",
      "source": [
        "4.화씨(fahrenheit)를 섭씨(celcius)로 변환하는 코드작성"
      ],
      "metadata": {
        "id": "nAfqUBkFUrCS"
      }
    },
    {
      "cell_type": "code",
      "source": [
        "fahrenheit = int(input(\"화씨온도를 입력하시오.\")) # 사용자로부터 정수 값을 입력받아 fahrenheit 변수에 저장\n",
        "celcius = (fahrenheit - 32)/1.8 # 화씨 온도를 섭씨 온도로 변환하여 celcius 변수에 저장\n",
        "print(f'화씨온도는 {fahrenheit}또는, 섭씨 {celcius}도 입니다.') # \"화씨온도는 {fahrenheit}또는, 섭씨 {celcius}도 입니다.\"를 출력"
      ],
      "metadata": {
        "colab": {
          "base_uri": "https://localhost:8080/"
        },
        "id": "hXiWoGhXU6-6",
        "outputId": "77f22ad3-0462-4fdd-a3cb-2257cade59a5"
      },
      "execution_count": null,
      "outputs": [
        {
          "output_type": "stream",
          "name": "stdout",
          "text": [
            "화씨온도를 입력하시오.100\n",
            "화씨온도는 100또는, 섭씨 37.77777777777778도 입니다.\n"
          ]
        }
      ]
    },
    {
      "cell_type": "code",
      "source": [
        "celcius = float(input(\" 섭씨온도를 입력하시오. :\")) # 사용자로부터 실수 값을 입력받아 celcius 변수에 저장\n",
        "fahrenheit = (celcius * 1.8) + 32 # 섭씨 온도를 화씨 온도로 변환하여 fahrenheit 변수에 저장\n",
        "print(f'섭씨온도는 {celcius}또는, 화씨 {fahrenheit}도 입니다.') # \"섭씨온도는 {celcius}또는, 화씨 {fahrenheit}도 입니다.\"를 출력"
      ],
      "metadata": {
        "colab": {
          "base_uri": "https://localhost:8080/"
        },
        "id": "meMeMlzHWTXC",
        "outputId": "e84b215c-3491-4dce-8e4e-7f2da8e7b3d6"
      },
      "execution_count": null,
      "outputs": [
        {
          "output_type": "stream",
          "name": "stdout",
          "text": [
            " 섭씨온도를 입력하시오. :37.77777777777778\n",
            "섭씨온도는 37.77777777777778또는, 화씨 100.0도 입니다.\n"
          ]
        }
      ]
    },
    {
      "cell_type": "markdown",
      "source": [
        "5. 사용자로부터 2개의 정수를 받아서 합계를 출력"
      ],
      "metadata": {
        "id": "1uknxzMOW9MB"
      }
    },
    {
      "cell_type": "code",
      "source": [
        "print(\" 정수 2개를 입력하시오.\")\n",
        "x = int(input(\"x의 값을 입력하시오.\")) # 사용자로부터 정수 값을 입력받아 x 변수에 저장\n",
        "y = int(input(\"y의 값을 입력하시오.\")) # 사용자로부터 정수 값을 입력받아 y 변수에 저장\n",
        "sum = x + y # x와 y의 합을 계산하여 sum 변수에 저장\n",
        "print(\"합계:\", sum) # \"합계: {sum}\"을 출력"
      ],
      "metadata": {
        "colab": {
          "base_uri": "https://localhost:8080/"
        },
        "id": "79V6AHXjXCmp",
        "outputId": "84f27007-b183-4e89-af22-1bf7a439058d"
      },
      "execution_count": null,
      "outputs": [
        {
          "output_type": "stream",
          "name": "stdout",
          "text": [
            " 정수 2개를 입력하시오\n",
            "x의 값을 입력하시오.1\n",
            "y의 값을 입력하시오.2\n",
            "합계: 3\n"
          ]
        }
      ]
    },
    {
      "cell_type": "markdown",
      "source": [
        "6. 부가세 계산\n"
      ],
      "metadata": {
        "id": "xLWhqIzxYDBq"
      }
    },
    {
      "cell_type": "code",
      "source": [
        "print(\"상품의 가격을 입력하시오.\")\n",
        "price = int(input(\"가격:\")) # 사용자로부터 정수 값을 입력받아 price 변수에 저장\n",
        "vat = price * 0.1 # 가격에 10%의 비율로 부가세를 계산하여 vat 변수에 저장\n",
        "print(\"부가세\",vat) # \"부가세: {vat}\"을 출력"
      ],
      "metadata": {
        "colab": {
          "base_uri": "https://localhost:8080/"
        },
        "id": "I2YHdlN1YGba",
        "outputId": "97c882fa-1a8a-4f7f-f3a8-2aea5e11c1ba"
      },
      "execution_count": null,
      "outputs": [
        {
          "output_type": "stream",
          "name": "stdout",
          "text": [
            "상푸의 가격을 입력하시오.\n",
            "가격:50\n",
            "부가세 5.0\n"
          ]
        }
      ]
    }
  ]
}