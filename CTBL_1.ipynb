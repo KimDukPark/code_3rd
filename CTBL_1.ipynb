{
  "nbformat": 4,
  "nbformat_minor": 0,
  "metadata": {
    "colab": {
      "provenance": [],
      "authorship_tag": "ABX9TyNkV89NUoDt/FnBkuVRZW8I",
      "include_colab_link": true
    },
    "kernelspec": {
      "name": "python3",
      "display_name": "Python 3"
    },
    "language_info": {
      "name": "python"
    }
  },
  "cells": [
    {
      "cell_type": "markdown",
      "metadata": {
        "id": "view-in-github",
        "colab_type": "text"
      },
      "source": [
        "<a href=\"https://colab.research.google.com/github/KimDukPark/code_3rd/blob/main/CTBL_1.ipynb\" target=\"_parent\"><img src=\"https://colab.research.google.com/assets/colab-badge.svg\" alt=\"Open In Colab\"/></a>"
      ]
    },
    {
      "cell_type": "code",
      "execution_count": null,
      "metadata": {
        "id": "9g-WV4IK0_Gg"
      },
      "outputs": [],
      "source": []
    },
    {
      "cell_type": "markdown",
      "source": [
        "1. 학생으로부터 성적을 입력받아 합격유무를 출력하는 코드작성\n",
        "- 사용변수 : Grade\n",
        "- 사용수식 : Grade >=70:\n"
      ],
      "metadata": {
        "id": "sm_Ha9nI0_8z"
      }
    },
    {
      "cell_type": "code",
      "source": [
        "Grade = int(input(\"성적입력: \"))\n",
        "if Grade >= 70:\n",
        "  print(\"70점 이상이므로 합격\")\n",
        "else:\n",
        "  print(\"70점 이하는 불합격\")"
      ],
      "metadata": {
        "colab": {
          "base_uri": "https://localhost:8080/"
        },
        "id": "nZP_4b_-1QeZ",
        "outputId": "5035a8ce-3028-4f33-aa20-af1f406ef55e"
      },
      "execution_count": 2,
      "outputs": [
        {
          "output_type": "stream",
          "name": "stdout",
          "text": [
            "성적입력: 80\n",
            "70점 이상이므로 합격\n"
          ]
        }
      ]
    },
    {
      "cell_type": "markdown",
      "source": [
        "2. 쇼핑몰의 배송료를 계산하는 코드 작성\n",
        "- 변수명 : price, shipping_cost\n",
        "- 수식 : price >= 20000\n",
        "- shipping_cost = 3000"
      ],
      "metadata": {
        "id": "QMvmINo03usJ"
      }
    },
    {
      "cell_type": "code",
      "source": [
        "price = int(input(\"구입금액 입력: \"))\n",
        "if price >= 20000:\n",
        "  shipping_cost = 0\n",
        "  print(f'구입금액이 {price}원 이상입니다.')\n",
        "else:\n",
        "  shipping_cost = 3000\n",
        "  print(\"구입금액이 2만원 이하입니다.\")\n",
        "print(f'회원님의 배송료는 {shipping_cost}입니다.')"
      ],
      "metadata": {
        "colab": {
          "base_uri": "https://localhost:8080/"
        },
        "id": "8bOHxYDR41xg",
        "outputId": "23595ce7-7b0e-4ea2-9a55-7a215a220743"
      },
      "execution_count": 5,
      "outputs": [
        {
          "output_type": "stream",
          "name": "stdout",
          "text": [
            "구입금액 입력: 20000\n",
            "구입금액이 20000원 이상입니다.\n",
            "회원님의 배송료는 0입니다.\n"
          ]
        }
      ]
    },
    {
      "cell_type": "markdown",
      "source": [
        "3. 근무시간에 따라 초과근무와 정상근무를 판별하는 코드작성\n",
        "- 변수 : work_hour\n",
        "- 수식 : >= , 기준시간 : 72시간"
      ],
      "metadata": {
        "id": "55Ar1thR792Y"
      }
    },
    {
      "cell_type": "code",
      "source": [
        "work_hour = int(input(\"근무시간 입력: \"))\n",
        "if work_hour >= 72:\n",
        "  print(\"초과근무하였습니다.\")\n",
        "else:\n",
        "  print(\"정상근무하였습니다.\")"
      ],
      "metadata": {
        "colab": {
          "base_uri": "https://localhost:8080/"
        },
        "id": "ZNSfhUYf8dNy",
        "outputId": "57f8c16b-08cf-4366-a9d7-a83be8675269"
      },
      "execution_count": 10,
      "outputs": [
        {
          "output_type": "stream",
          "name": "stdout",
          "text": [
            "근무시간 입력: 73\n",
            "초과근무하였습니다.\n"
          ]
        }
      ]
    },
    {
      "cell_type": "markdown",
      "source": [
        "4. 정수를 입력받아서 짝수인지 홀수인지 판별하는 코드 작성\n",
        " - 변수 : num\n",
        " - 수식 : num (num % 2) != 0:\n"
      ],
      "metadata": {
        "id": "_Yi16sL49-v4"
      }
    },
    {
      "cell_type": "code",
      "source": [
        "num = int(input(\"정수를 입력하시오.\"))\n",
        "if (num % 2) !=0:\n",
        "  print(\"홀수입니다.\")\n",
        "else:\n",
        "  print(\"짝수입니다.\")"
      ],
      "metadata": {
        "colab": {
          "base_uri": "https://localhost:8080/"
        },
        "id": "z3Ge4mnx-T9J",
        "outputId": "b9bbf45e-7133-4eb4-b349-66523cf78630"
      },
      "execution_count": 11,
      "outputs": [
        {
          "output_type": "stream",
          "name": "stdout",
          "text": [
            "정수를 입력하시오.4\n",
            "짝수입니다.\n"
          ]
        }
      ]
    },
    {
      "cell_type": "markdown",
      "source": [
        "5. 사용자의 이름과 나이를 입력받고, 답변하는 코드 작성\n",
        " - 입력 : 성명 - name\n",
        " - 입력 : 나이 - age\n",
        " - 수식 : if age <= 20:\n",
        "\n",
        " 최종 출력물\n",
        " - 이름을 입력하시오.: 허종운\n",
        " - 나이를 입력하시오.: 20\n",
        " - (1) 프로그래밍을 배우는 최적의 나이입니다.\n",
        " - (2) 아직도 늦지 않았습니다. 도전정신"
      ],
      "metadata": {
        "id": "Wgbo82AxAlNf"
      }
    },
    {
      "cell_type": "code",
      "source": [
        "name =input(\"성명을 입력하시오.:\")\n",
        "age = int(input(\"나이를 입력하시오.:\"))\n",
        "if age <= 20:\n",
        "  print(\"프로그래밍을 배우는 최적의 나이입니다.\")\n",
        "else:\n",
        "  print(\"아직도 늦지 않았습니다. 도전정신\")"
      ],
      "metadata": {
        "colab": {
          "base_uri": "https://localhost:8080/"
        },
        "id": "THFUBNPEBVqm",
        "outputId": "c5177d39-ea7e-40a4-c4f9-77c9a9603716"
      },
      "execution_count": 18,
      "outputs": [
        {
          "output_type": "stream",
          "name": "stdout",
          "text": [
            "성명을 입력하시오.:허종운\n",
            "나이를 입력하시오.:44\n",
            "아직도 늦지 않았습니다. 도전정신\n"
          ]
        }
      ]
    },
    {
      "cell_type": "code",
      "source": [
        "import random\n",
        "\n",
        "def generate_lotto_numbers():\n",
        "    \"\"\"\n",
        "    1부터 45까지의 숫자 중에서 6개의 숫자를 랜덤으로 선택하여 반환하는 함수입니다.\n",
        "    \"\"\"\n",
        "    lotto_numbers = random.sample(range(1, 46), 6)  # 1부터 45까지의 숫자 중에서 6개의 숫자를 랜덤으로 선택하여 lotto_numbers에 저장합니다.\n",
        "    return lotto_numbers\n",
        "\n",
        "def check_matching_numbers(my_numbers, winning_numbers):\n",
        "    \"\"\"\n",
        "    내가 선택한 로또 번호와 당첨 번호를 비교하여 일치하는 번호의 개수를 반환하는 함수입니다.\n",
        "    \"\"\"\n",
        "    matching_numbers = set(my_numbers) & set(winning_numbers)  # 내가 선택한 번호와 당첨 번호의 교집합을 구합니다.\n",
        "    return len(matching_numbers)  # 교집합의 개수를 반환합니다.\n",
        "\n",
        "def main():\n",
        "    \"\"\"\n",
        "    메인 함수입니다. 로또 번호를 생성하고 당첨 번호와 비교하여 결과를 출력하는 기능을 담고 있습니다.\n",
        "    \"\"\"\n",
        "    my_numbers = generate_lotto_numbers()  # 내가 선택한 로또 번호를 생성합니다.\n",
        "    winning_numbers = generate_lotto_numbers()  # 당첨 번호를 생성합니다.\n",
        "\n",
        "    print(\"내가 선택한 로또 번호: \", my_numbers)  # 내가 선택한 로또 번호를 출력합니다.\n",
        "    print(\"당첨 번호: \", winning_numbers)  # 당첨 번호를 출력합니다.\n",
        "\n",
        "    matching_count = check_matching_numbers(my_numbers, winning_numbers)  # 내가 선택한 번호와 당첨 번호를 비교하여 일치하는 번호의 개수를 계산합니다.\n",
        "    print(\"일치하는 번호 개수: \", matching_count)  # 일치하는 번호의 개수를 출력합니다.\n",
        "\n",
        "if __name__ == \"__main__\":"
      ],
      "metadata": {
        "id": "ZpVlzDHPFDtT"
      },
      "execution_count": null,
      "outputs": []
    },
    {
      "cell_type": "code",
      "source": [
        "def check_learning_age():\n",
        "    \"\"\"\n",
        "    이름과 나이를 입력받고, 나이에 따라 프로그래밍을 배우는 최적의 나이인지를 출력하는 함수입니다.\n",
        "    \"\"\"\n",
        "    name = input(\"이름을 입력하세요: \")\n",
        "    age = int(input(\"나이를 입력하세요: \"))\n",
        "\n",
        "    if age <= 20:\n",
        "        print(f\"{name}님은 프로그래밍을 배우는 최적의 나이입니다.\")\n",
        "    else:\n",
        "        print(\"아직도 늦지 않았습니다. 도전정신!\")\n",
        "\n",
        "def main():\n",
        "    \"\"\"\n",
        "    메인 함수입니다. check_learning_age 함수를 호출하여 나이에 따라 메시지를 출력합니다.\n",
        "    \"\"\"\n",
        "    check_learning_age()\n",
        "\n",
        "if __name__ == \"__main__\":\n",
        "    main()"
      ],
      "metadata": {
        "id": "JSZbpXMQGu29"
      },
      "execution_count": null,
      "outputs": []
    }
  ]
}