{
  "nbformat": 4,
  "nbformat_minor": 0,
  "metadata": {
    "colab": {
      "provenance": [],
      "authorship_tag": "ABX9TyMxZa3mcBh54rKIxaeLGF/h",
      "include_colab_link": true
    },
    "kernelspec": {
      "name": "python3",
      "display_name": "Python 3"
    },
    "language_info": {
      "name": "python"
    }
  },
  "cells": [
    {
      "cell_type": "markdown",
      "metadata": {
        "id": "view-in-github",
        "colab_type": "text"
      },
      "source": [
        "<a href=\"https://colab.research.google.com/github/KimDukPark/code_3rd/blob/main/CTBA_9.ipynb\" target=\"_parent\"><img src=\"https://colab.research.google.com/assets/colab-badge.svg\" alt=\"Open In Colab\"/></a>"
      ]
    },
    {
      "cell_type": "markdown",
      "source": [
        "1. 두가지 이상의 선택 다방향 선택구조 코딩\n",
        " - 배송료처리 3가지로 작성\n",
        " - 변수 : price, 가격 10만원 이상 0원, 2만원이상 3000원, 그외 5천원"
      ],
      "metadata": {
        "id": "QGXgfbTMMQCJ"
      }
    },
    {
      "cell_type": "code",
      "source": [
        "print(\"배송료를 계산합니다.\")\n",
        "print(\"#\" * 30)  # 구분선 출력\n",
        "price = int(input(\"구입금액 입력:\")) # 구입금액 입력받\n",
        "if price >= 100000:\n",
        "  shipping_cost = 0\n",
        "else:\n",
        "  if price >= 20000:\n",
        "    shipping_cost = 3000\n",
        "  else:\n",
        "      shipping_cost = 5000\n",
        "print(f'배송료는 {shipping_cost}원 입니다.') # 배송료 출력"
      ],
      "metadata": {
        "colab": {
          "base_uri": "https://localhost:8080/"
        },
        "id": "oS6T7CKzM-XT",
        "outputId": "176fd1ec-be3f-4bdc-87fa-abc063df8445"
      },
      "execution_count": null,
      "outputs": [
        {
          "output_type": "stream",
          "name": "stdout",
          "text": [
            "배송료를 계산합니다.\n",
            "##############################\n",
            "구입금액 입력:19000\n",
            "배송료는 5000원 입니다.\n"
          ]
        }
      ]
    },
    {
      "cell_type": "markdown",
      "source": [
        "2. 환영합니다. 5번 출력,10번 출력, 30번 출력"
      ],
      "metadata": {
        "id": "Nee_j797OaUM"
      }
    },
    {
      "cell_type": "code",
      "source": [
        "print(\"환영합니다.\")\n",
        "print(\"환영합니다.\")\n",
        "print(\"환영합니다.\")\n",
        "print(\"환영합니다.\")"
      ],
      "metadata": {
        "colab": {
          "base_uri": "https://localhost:8080/"
        },
        "id": "t758gihsOjsK",
        "outputId": "120f7e69-c623-4548-c2ee-134bf7213d71"
      },
      "execution_count": null,
      "outputs": [
        {
          "output_type": "stream",
          "name": "stdout",
          "text": [
            "환영합니다.\n",
            "환영합니다.\n",
            "환영합니다.\n",
            "환영합니다.\n"
          ]
        }
      ]
    },
    {
      "cell_type": "code",
      "source": [
        "print(\"환영합니다.\\n\" * 5)"
      ],
      "metadata": {
        "colab": {
          "base_uri": "https://localhost:8080/"
        },
        "id": "1VJoWu5NO1fc",
        "outputId": "88e2aba6-c9da-428c-d2c5-33954cc13a35"
      },
      "execution_count": null,
      "outputs": [
        {
          "output_type": "stream",
          "name": "stdout",
          "text": [
            "환영합니다.\n",
            "환영합니다.\n",
            "환영합니다.\n",
            "환영합니다.\n",
            "환영합니다.\n",
            "\n"
          ]
        }
      ]
    },
    {
      "cell_type": "code",
      "source": [
        "count = 0 # 초기 카운트 값 설정\n",
        "while count <= 5: # count가 5 이하인 동안 반\n",
        "  print(\"(\", count,\")\", \"환영합니다.\") # 카운트와 함께 환영 메세지 입력\n",
        "  print(F'({count})환영합니다.') # f-string을 사용하여 카운트와 함께 환영 메세지 입력\n",
        "  #count = count + 1\n",
        "  count += 1 # 카운트 값 증가"
      ],
      "metadata": {
        "colab": {
          "base_uri": "https://localhost:8080/"
        },
        "id": "quZPoYU5So7L",
        "outputId": "34b3e926-b608-4949-e633-627d665d8b9b"
      },
      "execution_count": null,
      "outputs": [
        {
          "output_type": "stream",
          "name": "stdout",
          "text": [
            "( 0 ) 환영합니다.\n",
            "(0)환영합니다.\n",
            "( 1 ) 환영합니다.\n",
            "(1)환영합니다.\n",
            "( 2 ) 환영합니다.\n",
            "(2)환영합니다.\n",
            "( 3 ) 환영합니다.\n",
            "(3)환영합니다.\n",
            "( 4 ) 환영합니다.\n",
            "(4)환영합니다.\n",
            "( 5 ) 환영합니다.\n",
            "(5)환영합니다.\n"
          ]
        }
      ]
    },
    {
      "cell_type": "markdown",
      "source": [
        "3. 0부터 9까지 출력하는 코드 작성\n",
        " - 변수 : x"
      ],
      "metadata": {
        "id": "Ec8DY3izUwSS"
      }
    },
    {
      "cell_type": "code",
      "source": [
        "x = 0 # 초기 x 값 설정\n",
        "while x < 10: # x가 10보다 작은 동안 반복\n",
        "  print(x, end=' ') # x를 출력하고 공백으로 구분하여 출력\n",
        "  x += 1 # x 값을 1씩 증가"
      ],
      "metadata": {
        "colab": {
          "base_uri": "https://localhost:8080/"
        },
        "id": "zaWqC856U1dD",
        "outputId": "73fb9ae7-0e3a-44b8-de86-5dd3009dfd4b"
      },
      "execution_count": null,
      "outputs": [
        {
          "output_type": "stream",
          "name": "stdout",
          "text": [
            "0 1 2 3 4 5 6 7 8 9 "
          ]
        }
      ]
    },
    {
      "cell_type": "markdown",
      "source": [
        "4. 1부터 10까지 정수의 합을 계산하여 출력하는 코드"
      ],
      "metadata": {
        "id": "R8b9VlOvYf99"
      }
    },
    {
      "cell_type": "code",
      "source": [
        "x = 1 # 초기 x 값 설정\n",
        "total = 0 # 초기 total 값 설정\n",
        "while x <= 10: # x가 10 이하인 동안 반복\n",
        "  total = total + x  # total에 x를 더함\n",
        "  x += 1 # x 값을 1씩 증가\n",
        "print(total) # total 출력"
      ],
      "metadata": {
        "colab": {
          "base_uri": "https://localhost:8080/"
        },
        "id": "bLIKEQYdYjmd",
        "outputId": "1f0abde5-d693-4ebd-89cc-58b1c45c8ceb"
      },
      "execution_count": null,
      "outputs": [
        {
          "output_type": "stream",
          "name": "stdout",
          "text": [
            "55\n"
          ]
        }
      ]
    },
    {
      "cell_type": "code",
      "source": [
        "x = 1 # 초기 x 값 설정\n",
        "while x<= 10: # x가 10 이하인 동안 반\n",
        "  print(x) # x 출력\n",
        "  x += 1 # x 값을 1씩 증가"
      ],
      "metadata": {
        "colab": {
          "base_uri": "https://localhost:8080/"
        },
        "id": "9NKVaT0GY2wC",
        "outputId": "59aad467-74b2-47fe-90d1-3045c9ea18fe"
      },
      "execution_count": null,
      "outputs": [
        {
          "output_type": "stream",
          "name": "stdout",
          "text": [
            "1\n",
            "2\n",
            "3\n",
            "4\n",
            "5\n",
            "6\n",
            "7\n",
            "8\n",
            "9\n",
            "10\n"
          ]
        }
      ]
    },
    {
      "cell_type": "markdown",
      "source": [
        "5. 3-6-9 게임(3의 배수 판단): 3의 배수를 3으로 나누면 나머지가 0이 되므로(i mod 3)의 값이 0임면 박수를 출력, 아니면 숫자를 출력해주는 코드 작성"
      ],
      "metadata": {
        "id": "gKTbOKdEVnRL"
      }
    },
    {
      "cell_type": "code",
      "source": [
        "i = 1                                      # 변수 i는 0으로 선언\n",
        "while i <= 30:                             # 반복문 while사용해서 i가 30보다 작거나 같을때\n",
        "  if i % 3 == 0:                           # 만약 i값을 3으로 나눈 나머지가 0이면\n",
        "    print(\"박수\", end=' ')                 # 박수를 출력하고 공백을 하나 만듦\n",
        "  else:                                   # 위의 것이 아니면,\n",
        "    print(i, end=' ')                      # i값만 출력하고 공백 하나 만듦\n",
        "  i += 1                                   # 변수 i값에 i와 1을 더해서 다시 변수 i에 선언"
      ],
      "metadata": {
        "colab": {
          "base_uri": "https://localhost:8080/"
        },
        "id": "pDPiQfBmWB7z",
        "outputId": "a0113012-399b-4b59-f162-86f8006aa147"
      },
      "execution_count": null,
      "outputs": [
        {
          "output_type": "stream",
          "name": "stdout",
          "text": [
            "1 2 박수 4 5 박수 7 8 박수 10 11 박수 13 14 박수 16 17 박수 19 20 박수 22 23 박수 25 26 박수 28 29 박수 "
          ]
        }
      ]
    },
    {
      "cell_type": "code",
      "source": [
        "for rum in range(1, 11):        # 1부터 11까지의 숫자를 반복\n",
        "  if rum % 3 ==0:               # 숫자를 3으로 나눈 나머지가 0인 경우\n",
        "    print(\"박수\", end=' ')      # 박수를 출력하고 공백 만듦\n",
        "  else:                         # 그게 아니면\n",
        "    print(rum, end=' ')         # 숫자만 출력하고 공백 만듦"
      ],
      "metadata": {
        "colab": {
          "base_uri": "https://localhost:8080/"
        },
        "id": "c72R17yYZJcz",
        "outputId": "82279ed4-ceec-4d9e-ff60-be62b1c02be5"
      },
      "execution_count": null,
      "outputs": [
        {
          "output_type": "stream",
          "name": "stdout",
          "text": [
            "1 2 박수 4 5 박수 7 8 박수 10 "
          ]
        }
      ]
    },
    {
      "cell_type": "markdown",
      "source": [
        "6. 팩토리얼 계산하는 코드 작성"
      ],
      "metadata": {
        "id": "SSmUOtIYabyU"
      }
    },
    {
      "cell_type": "code",
      "source": [
        "i = 4 # 초기 i 값 설정\n",
        "factorial = 1 # 초기 factorial 값 설정\n",
        "while i >= 1: # i가 1 이상인 동안 반복\n",
        "  factorial = factorial * i # factorial에 i를 곱함\n",
        "  i -= 1 # i 값을 1씩 감소\n",
        "print(factorial) # factorial 출력"
      ],
      "metadata": {
        "colab": {
          "base_uri": "https://localhost:8080/"
        },
        "id": "aaah7r6EaflO",
        "outputId": "abb18da5-f542-4906-d272-9ad016f951f5"
      },
      "execution_count": null,
      "outputs": [
        {
          "output_type": "stream",
          "name": "stdout",
          "text": [
            "24\n"
          ]
        }
      ]
    },
    {
      "cell_type": "code",
      "source": [
        "i = int(input(\"팩토리얼 값입력:\")) # 사용자로부터 정수 값을 입력받아 i 변수에 저\n",
        "factorial = 1 # 초기 factorial 값 설정\n",
        "while i >= 1: # i가 1 이상인 동안 반\n",
        "  factorial = factorial * i # factorial에 i를 곱함\n",
        "  i -= 1 # i 값을 1씩 감소\n",
        "  print(\"계산된 팩토리얼 값은 :\", factorial) # 현재까지의 factorial 값을 출력"
      ],
      "metadata": {
        "id": "KRq-tGJKdFi7"
      },
      "execution_count": null,
      "outputs": []
    },
    {
      "cell_type": "code",
      "source": [
        "rum = int(input(\"팩토리얼 값입력:\")) # 사용자로부터 정수 값을 입력받아 rum 변수에 저\n",
        "factorial = 1 # 초기 factorial 값 설\n",
        "while rum >= 1: # rum이 1 이상인 동안 반복\n",
        "  factorial = factorial * rum # factorial에 rum을 곱함\n",
        "  rum -= 1 # rum 값을 1씩 감소\n",
        "  print(\"계산된 팩토리얼 값은 :\", factorial) # 현재까지의 factorial 값을 출력"
      ],
      "metadata": {
        "colab": {
          "base_uri": "https://localhost:8080/"
        },
        "id": "5MtU8tXHa1yM",
        "outputId": "4c54ba8e-4fb3-4927-a44c-a6c123d3afdc"
      },
      "execution_count": null,
      "outputs": [
        {
          "output_type": "stream",
          "name": "stdout",
          "text": [
            "팩토리얼 값입력:4\n",
            "계산된 팩토리얼 값은 : 4\n",
            "계산된 팩토리얼 값은 : 12\n",
            "계산된 팩토리얼 값은 : 24\n",
            "계산된 팩토리얼 값은 : 24\n"
          ]
        }
      ]
    }
  ]
}