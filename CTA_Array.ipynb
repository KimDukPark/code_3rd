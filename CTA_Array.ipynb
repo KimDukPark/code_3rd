{
  "nbformat": 4,
  "nbformat_minor": 0,
  "metadata": {
    "colab": {
      "provenance": [],
      "authorship_tag": "ABX9TyMyKKBZXO2oF06r1CC/MQvd",
      "include_colab_link": true
    },
    "kernelspec": {
      "name": "python3",
      "display_name": "Python 3"
    },
    "language_info": {
      "name": "python"
    }
  },
  "cells": [
    {
      "cell_type": "markdown",
      "metadata": {
        "id": "view-in-github",
        "colab_type": "text"
      },
      "source": [
        "<a href=\"https://colab.research.google.com/github/KimDukPark/code_3rd/blob/main/CTA_Array.ipynb\" target=\"_parent\"><img src=\"https://colab.research.google.com/assets/colab-badge.svg\" alt=\"Open In Colab\"/></a>"
      ]
    },
    {
      "cell_type": "markdown",
      "source": [
        "1. 배열의 선언\n",
        "\n",
        "- 일반 변수의 선언 : 변수명= 변수의 값\n",
        "- 배열의 변수 선언 : 변수명=( ,, )"
      ],
      "metadata": {
        "id": "Bfgp64UGV21N"
      }
    },
    {
      "cell_type": "code",
      "execution_count": null,
      "metadata": {
        "colab": {
          "base_uri": "https://localhost:8080/"
        },
        "id": "cGxUjr23Vvc9",
        "outputId": "c928d1bc-4f55-4af9-966a-f7f647b1b805"
      },
      "outputs": [
        {
          "output_type": "stream",
          "name": "stdout",
          "text": [
            "아바타\n",
            "어벤져스\n"
          ]
        }
      ],
      "source": [
        "movie_list = [\"아바타\", \"타이타닉\", \"스타워즈\", \"주라기월드\", \"어벤져스\"]\n",
        "print(movie_list[0]) # 첫 번째 영화 출력\n",
        "print(movie_list[4]) # 다섯 번째 영화 출력"
      ]
    },
    {
      "cell_type": "markdown",
      "source": [
        "2. 요일을 배열로 선언하라\n",
        "- 변수명 : day_list\n",
        "- 요일 : 월(mon), 화(Tue), 수(Wed), 목(Thur), 금(Fri), 토(Sat), 일(Sun)"
      ],
      "metadata": {
        "id": "oD7qsChZWxQc"
      }
    },
    {
      "cell_type": "code",
      "source": [
        "day_list = [\"월(mon)\", \"화(Tue)\", \"수(Wed)\", \"목(Thur)\", \"금(Fri)\", \"토(Sat)\", \"일(Sun)\"]\n",
        "print(day_list[0]) # 첫 번째 요일 출력\n",
        "print(day_list[1])  # 두 번째 요일 출력\n",
        "print(day_list[2])  # 세 번째 요일 출력\n",
        "print(day_list[3])  # 네 번째 요일 출력\n",
        "print(day_list[4])  # 다섯 번째 요일 출력\n",
        "print(day_list[5])  # 여섯 번째 요일 출력\n",
        "print(day_list[6])  # 일곱 번째 요일 출력"
      ],
      "metadata": {
        "colab": {
          "base_uri": "https://localhost:8080/"
        },
        "id": "bCZYVEmJXMrz",
        "outputId": "a97b151b-1618-4cb9-ddc2-6dd11744cd86"
      },
      "execution_count": null,
      "outputs": [
        {
          "output_type": "stream",
          "name": "stdout",
          "text": [
            "월(mon)\n",
            "화(Tue)\n",
            "수(Wed)\n",
            "목(Thur)\n",
            "금(Fri)\n",
            "토(Sat)\n",
            "일(Sun)\n"
          ]
        }
      ]
    }
  ]
}